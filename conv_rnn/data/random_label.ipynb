{
 "cells": [
  {
   "cell_type": "code",
   "execution_count": 1,
   "metadata": {
    "collapsed": true
   },
   "outputs": [],
   "source": [
    "import random"
   ]
  },
  {
   "cell_type": "code",
   "execution_count": 5,
   "metadata": {},
   "outputs": [],
   "source": [
    "for mode in [\"dev\", \"test\", \"phrases.train\"]:\n",
    "    f = open(\"stsa.fine.{}\".format(mode))\n",
    "    f2 = open(\"new_stsa.fine.{}\".format(mode), \"w\")\n",
    "    for l in f:\n",
    "        new_label = random.randint(0, 4)\n",
    "        l = str(new_label) + l[1:]\n",
    "        f2.write(l)\n",
    "    f2.close()"
   ]
  }
 ],
 "metadata": {
  "kernelspec": {
   "display_name": "Python 3",
   "language": "python",
   "name": "python3"
  },
  "language_info": {
   "codemirror_mode": {
    "name": "ipython",
    "version": 3
   },
   "file_extension": ".py",
   "mimetype": "text/x-python",
   "name": "python",
   "nbconvert_exporter": "python",
   "pygments_lexer": "ipython3",
   "version": "3.6.3"
  }
 },
 "nbformat": 4,
 "nbformat_minor": 2
}
