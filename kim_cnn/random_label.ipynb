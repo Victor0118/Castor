{
 "cells": [
  {
   "cell_type": "code",
   "execution_count": null,
   "metadata": {},
   "outputs": [],
   "source": [
    "import random"
   ]
  },
  {
   "cell_type": "code",
   "execution_count": null,
   "metadata": {},
   "outputs": [],
   "source": [
    "for mode in [\"dev\", \"test\", \"phrases.train\"]:\n",
    "    f = open(\"data/stsa.fine.{}.tsv\".format(mode))\n",
    "    f2 = open(\"data/new_stsa.fine.{}.tsv\".format(mode), \"w\")\n",
    "    for l in f:\n",
    "        ls = l.split(\"\\t\")\n",
    "        new_label = random.randint(0, 4)\n",
    "        f2.write(str(new_label))\n",
    "        f2.write(\"\\t\")\n",
    "        f2.write(ls[1])\n",
    "    f2.close()"
   ]
  },
  {
   "cell_type": "code",
   "execution_count": null,
   "metadata": {},
   "outputs": [],
   "source": [
    "\n",
    "random.randint(0, 1)"
   ]
  },
  {
   "cell_type": "code",
   "execution_count": 2,
   "metadata": {},
   "outputs": [
    {
     "data": {
      "text/plain": [
       "'/u/w85yang/Castor/kim_cnn'"
      ]
     },
     "execution_count": 2,
     "metadata": {},
     "output_type": "execute_result"
    }
   ],
   "source": [
    "pwd"
   ]
  },
  {
   "cell_type": "code",
   "execution_count": 9,
   "metadata": {},
   "outputs": [
    {
     "ename": "EOFError",
     "evalue": "Ran out of input",
     "output_type": "error",
     "traceback": [
      "\u001b[0;31m---------------------------------------------------------------------------\u001b[0m",
      "\u001b[0;31mEOFError\u001b[0m                                  Traceback (most recent call last)",
      "\u001b[0;32m<ipython-input-9-bb39657600e6>\u001b[0m in \u001b[0;36m<module>\u001b[0;34m()\u001b[0m\n\u001b[1;32m      1\u001b[0m \u001b[0;32mimport\u001b[0m \u001b[0mpickle\u001b[0m\u001b[0;34m\u001b[0m\u001b[0m\n\u001b[0;32m----> 2\u001b[0;31m \u001b[0mtrain_acc\u001b[0m \u001b[0;34m=\u001b[0m \u001b[0mpickle\u001b[0m\u001b[0;34m.\u001b[0m\u001b[0mload\u001b[0m\u001b[0;34m(\u001b[0m\u001b[0mopen\u001b[0m\u001b[0;34m(\u001b[0m\u001b[0;34m\"../kim_cnn/train_acc_list.pkl\"\u001b[0m\u001b[0;34m,\u001b[0m \u001b[0;34m\"rb\"\u001b[0m\u001b[0;34m)\u001b[0m\u001b[0;34m)\u001b[0m\u001b[0;34m\u001b[0m\u001b[0m\n\u001b[0m",
      "\u001b[0;31mEOFError\u001b[0m: Ran out of input"
     ]
    }
   ],
   "source": [
    "import pickle\n",
    "train_acc = pickle.load(open(\"../kim_cnn/train_acc_list.pkl\", \"rb\"))"
   ]
  },
  {
   "cell_type": "code",
   "execution_count": 10,
   "metadata": {},
   "outputs": [
    {
     "name": "stdout",
     "output_type": "stream",
     "text": [
      "args.py       main.py       random_label.ipynb  SST1.py             utils.py\r\n",
      "\u001b[0m\u001b[01;34mdata\u001b[0m/         model.py      README.md           train_acc_list.pkl\r\n",
      "\u001b[01;32mget_data.sh\u001b[0m*  \u001b[01;34m__pycache__\u001b[0m/  \u001b[01;34msaves\u001b[0m/              train.py\r\n"
     ]
    }
   ],
   "source": [
    "ls"
   ]
  },
  {
   "cell_type": "code",
   "execution_count": 11,
   "metadata": {},
   "outputs": [
    {
     "data": {
      "text/plain": [
       "'/u/w85yang/Castor/kim_cnn'"
      ]
     },
     "execution_count": 11,
     "metadata": {},
     "output_type": "execute_result"
    }
   ],
   "source": [
    "pwd"
   ]
  },
  {
   "cell_type": "code",
   "execution_count": 15,
   "metadata": {},
   "outputs": [
    {
     "name": "stdout",
     "output_type": "stream",
     "text": [
      "[215, 204, 223, 234, 225]\n",
      "[446, 427, 449, 446, 442]\n",
      "[31319, 31487, 31328, 31011, 31672]\n"
     ]
    }
   ],
   "source": [
    "for mode in [\"dev\", \"test\", \"phrases.train\"]:\n",
    "    f = open(\"data/new_stsa.fine.{}.tsv\".format(mode))\n",
    "    f2 = open(\"../conv_rnn/data/new_stsa.fine.{}\".format(mode), \"w\")\n",
    "    stat = [0] * 5\n",
    "    for l in f:\n",
    "        ls = l.split(\"\\t\")\n",
    "        stat[int(ls[0])] += 1\n",
    "        f2.write(\" \".join(ls))\n",
    "    print(stat)\n",
    "    f2.close()"
   ]
  },
  {
   "cell_type": "code",
   "execution_count": null,
   "metadata": {
    "collapsed": true
   },
   "outputs": [],
   "source": []
  }
 ],
 "metadata": {
  "kernelspec": {
   "display_name": "Python 3",
   "language": "python",
   "name": "python3"
  },
  "language_info": {
   "codemirror_mode": {
    "name": "ipython",
    "version": 3
   },
   "file_extension": ".py",
   "mimetype": "text/x-python",
   "name": "python",
   "nbconvert_exporter": "python",
   "pygments_lexer": "ipython3",
   "version": "3.6.3"
  }
 },
 "nbformat": 4,
 "nbformat_minor": 2
}
